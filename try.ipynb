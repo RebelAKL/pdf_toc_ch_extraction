{
 "cells": [
  {
   "cell_type": "code",
   "execution_count": 6,
   "metadata": {},
   "outputs": [],
   "source": [
    "import pymupdf,fitz"
   ]
  },
  {
   "cell_type": "code",
   "execution_count": 9,
   "metadata": {},
   "outputs": [
    {
     "name": "stdout",
     "output_type": "stream",
     "text": [
      "Text extracted from pages 2 to 8 and saved to probable_toc.txt\n"
     ]
    }
   ],
   "source": [
    "def extract_text_from_pdf(pdf_path, output_txt_path, start_page, end_page):\n",
    "    doc = fitz.open(pdf_path)\n",
    "    text = \"\"\n",
    "    for page_num in range(start_page - 1, end_page):  \n",
    "        text += doc[page_num].get_text(\"text\") + \"\\n\\n\" \n",
    "    with open(output_txt_path, \"w\", encoding=\"utf-8\") as txt_file:\n",
    "        txt_file.write(text)\n",
    "\n",
    "    print(f\"Text extracted from pages {start_page} to {end_page} and saved to {output_txt_path}\")\n",
    "\n",
    "# Example usage\n",
    "pdf_file = \"PDF_FILES\\DIM evaluation report 22 Oct 2024.pdf\"  # Replace with your PDF path\n",
    "output_text_file = \"probable_toc.txt\"\n",
    "extract_text_from_pdf(pdf_file, output_text_file, 2, 8)"
   ]
  },
  {
   "cell_type": "code",
   "execution_count": null,
   "metadata": {},
   "outputs": [],
   "source": []
  }
 ],
 "metadata": {
  "kernelspec": {
   "display_name": "pdf",
   "language": "python",
   "name": "python3"
  },
  "language_info": {
   "codemirror_mode": {
    "name": "ipython",
    "version": 3
   },
   "file_extension": ".py",
   "mimetype": "text/x-python",
   "name": "python",
   "nbconvert_exporter": "python",
   "pygments_lexer": "ipython3",
   "version": "3.10.16"
  }
 },
 "nbformat": 4,
 "nbformat_minor": 2
}
