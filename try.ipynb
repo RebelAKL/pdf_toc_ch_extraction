{
 "cells": [
  {
   "cell_type": "code",
   "execution_count": 10,
   "metadata": {},
   "outputs": [],
   "source": [
    "import pymupdf,fitz\n",
    "import re"
   ]
  },
  {
   "cell_type": "code",
   "execution_count": null,
   "metadata": {},
   "outputs": [
    {
     "name": "stdout",
     "output_type": "stream",
     "text": [
      "Text extracted from pages 2 to 8 and saved to probable_toc.txt\n"
     ]
    }
   ],
   "source": [
    "def extract_text_from_pdf(pdf_path, output_txt_path, start_page, end_page):\n",
    "    doc = fitz.open(pdf_path)\n",
    "    text = \"\"\n",
    "    for page_num in range(start_page - 1, end_page):  \n",
    "        text += doc[page_num].get_text(\"text\") + \"\\n\\n\" \n",
    "    with open(output_txt_path, \"w\", encoding=\"utf-8\") as txt_file:\n",
    "        txt_file.write(text)\n",
    "\n",
    "    print(f\"Text extracted from pages {start_page} to {end_page} and saved to {output_txt_path}\")\n",
    "    \n",
    "pdf_file = \"PDF_FILES\\DIM evaluation report 22 Oct 2024.pdf\" \n",
    "output_text_file = \"probable_toc.txt\"\n",
    "extract_text_from_pdf(pdf_file, output_text_file, 2, 8)"
   ]
  },
  {
   "cell_type": "code",
   "execution_count": 14,
   "metadata": {},
   "outputs": [
    {
     "name": "stdout",
     "output_type": "stream",
     "text": [
      "Chapter 'FINDINGS' starts on page 44 and ends on page 61.\n"
     ]
    }
   ],
   "source": [
    "def find_chapter_pages(toc_text, chapter_name):\n",
    "    pattern = r'^\\s*(\\d*\\.*\\s*)?([A-Z][A-Z\\s\\-]+)\\s*[\\.…]*\\s*(\\d+)\\s*$'\n",
    "    matches = re.findall(pattern, toc_text, re.MULTILINE)\n",
    "\n",
    "    chapters = []\n",
    "    for match in matches:\n",
    "        number, title, page = match\n",
    "        title = title.strip()\n",
    "        page = int(page)\n",
    "        chapters.append((title, page))\n",
    "    start_page = None\n",
    "    end_page = None\n",
    "\n",
    "    for i, (title, page) in enumerate(chapters):\n",
    "        if title.lower() == chapter_name.lower():\n",
    "            start_page = page\n",
    "            if i + 1 < len(chapters):\n",
    "                end_page = chapters[i + 1][1] - 1  \n",
    "            break\n",
    "\n",
    "    return start_page, end_page\n",
    "\n",
    "with open(\"probable_toc.txt\", \"r\", encoding=\"utf-8\") as file:\n",
    "    toc_text = file.read()\n",
    "\n",
    "chapter_name = \"FINDINGS\"\n",
    "\n",
    "start_page, end_page = find_chapter_pages(toc_text, chapter_name)\n",
    "\n",
    "if start_page and end_page:\n",
    "    print(f\"Chapter '{chapter_name}' starts on page {start_page} and ends on page {end_page}.\")\n",
    "else:\n",
    "    print(f\"Could not find accurate page numbers for '{chapter_name}'.\")"
   ]
  },
  {
   "cell_type": "code",
   "execution_count": null,
   "metadata": {},
   "outputs": [],
   "source": []
  }
 ],
 "metadata": {
  "kernelspec": {
   "display_name": "pdf",
   "language": "python",
   "name": "python3"
  },
  "language_info": {
   "codemirror_mode": {
    "name": "ipython",
    "version": 3
   },
   "file_extension": ".py",
   "mimetype": "text/x-python",
   "name": "python",
   "nbconvert_exporter": "python",
   "pygments_lexer": "ipython3",
   "version": "3.10.16"
  }
 },
 "nbformat": 4,
 "nbformat_minor": 2
}
