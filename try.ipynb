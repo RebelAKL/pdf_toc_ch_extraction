{
 "cells": [
  {
   "cell_type": "code",
   "execution_count": 34,
   "metadata": {},
   "outputs": [],
   "source": [
    "import pymupdf,fitz\n",
    "import re\n",
    "import pandas as pd\n",
    "import os\n",
    "EXCEL_CHAR_LIMIT = 32767 "
   ]
  },
  {
   "cell_type": "code",
   "execution_count": 35,
   "metadata": {},
   "outputs": [],
   "source": [
    "\n",
    "def extract_text_from_pdf(pdf_path, start_page, end_page):\n",
    "    doc = fitz.open(pdf_path)\n",
    "    text = \"\"\n",
    "    for page_num in range(start_page - 1, end_page):\n",
    "        text += doc[page_num].get_text(\"text\") + \"\\n\\n\"\n",
    "    return text\n"
   ]
  },
  {
   "cell_type": "code",
   "execution_count": 38,
   "metadata": {},
   "outputs": [],
   "source": [
    "def find_chapter_pages(toc_text, chapter_name=\"FINDINGS\"):\n",
    "    pattern = r'^\\s*(\\d*\\.*\\s*)?([A-Z][A-Z\\s\\-]+)\\s*[\\.…]*\\s*(\\d+)\\s*$'\n",
    "    matches = re.findall(pattern, toc_text, re.MULTILINE)\n",
    "\n",
    "    chapters = []\n",
    "    for match in matches:\n",
    "        _, title, page = match\n",
    "        title = title.strip()\n",
    "        page = int(page)\n",
    "        chapters.append((title, page))\n",
    "\n",
    "    start_page = end_page = None\n",
    "    for i, (title, page) in enumerate(chapters):\n",
    "        if title.lower() == chapter_name.lower():\n",
    "            start_page = page\n",
    "            if i + 1 < len(chapters):\n",
    "                end_page = chapters[i + 1][1] - 1 \n",
    "            break\n",
    "\n",
    "    return start_page, end_page"
   ]
  },
  {
   "cell_type": "code",
   "execution_count": 39,
   "metadata": {},
   "outputs": [],
   "source": [
    "def split_text_into_cells(text, max_length=EXCEL_CHAR_LIMIT):\n",
    "    chunks = [text[i:i+max_length] for i in range(0, len(text), max_length)]\n",
    "    return chunks"
   ]
  },
  {
   "cell_type": "code",
   "execution_count": 40,
   "metadata": {},
   "outputs": [],
   "source": [
    "def process_pdfs(pdf_folder, output_excel):\n",
    "    data = []\n",
    "    pdf_files = [f for f in os.listdir(pdf_folder) if f.endswith(\".pdf\")]\n",
    "    for pdf_file in pdf_files:\n",
    "        pdf_path = os.path.join(pdf_folder, pdf_file)\n",
    "        toc_text = extract_text_from_pdf(pdf_path, 2, 10)\n",
    "        start_page, end_page = find_chapter_pages(toc_text)\n",
    "        if start_page and end_page:\n",
    "            findings_text = extract_text_from_pdf(pdf_path, start_page, end_page)\n",
    "            print(f\"Processed {pdf_file}: Findings from page {start_page} to {end_page}\")\n",
    "        else:\n",
    "            findings_text = \"Chapter 'FINDINGS' not found.\"\n",
    "            print(f\"Skipping {pdf_file}: FINDINGS chapter not detected\")\n",
    "        text_chunks = split_text_into_cells(findings_text)\n",
    "        row_data = [pdf_file] + text_chunks\n",
    "        data.append(row_data)\n",
    "    max_columns = max(len(row) for row in data) \n",
    "    column_names = [\"PDF Name\"] + [f\"Extracted Text (Part {i})\" for i in range(1, max_columns)]\n",
    "\n",
    "    df = pd.DataFrame(data, columns=column_names)\n",
    "    \n",
    "    df.to_excel(output_excel, index=False)\n",
    "    print(f\"Results saved to {output_excel}\")"
   ]
  },
  {
   "cell_type": "code",
   "execution_count": 41,
   "metadata": {},
   "outputs": [],
   "source": [
    "pdf_folder = \"PDF_FILES\"\n",
    "output_excel = \"findings_extracted.xlsx\""
   ]
  },
  {
   "cell_type": "code",
   "execution_count": 42,
   "metadata": {},
   "outputs": [
    {
     "name": "stdout",
     "output_type": "stream",
     "text": [
      "Processed DIM evaluation report 22 Oct 2024.pdf: Findings from page 44 to 61\n",
      "Processed Final Report_Evaluation of the Child Protection Programme_Dec 2024.pdf: Findings from page 12 to 53\n",
      "Results saved to findings_extracted.xlsx\n"
     ]
    }
   ],
   "source": [
    "process_pdfs(pdf_folder, output_excel)"
   ]
  },
  {
   "cell_type": "code",
   "execution_count": null,
   "metadata": {},
   "outputs": [],
   "source": []
  }
 ],
 "metadata": {
  "kernelspec": {
   "display_name": "pdf",
   "language": "python",
   "name": "python3"
  },
  "language_info": {
   "codemirror_mode": {
    "name": "ipython",
    "version": 3
   },
   "file_extension": ".py",
   "mimetype": "text/x-python",
   "name": "python",
   "nbconvert_exporter": "python",
   "pygments_lexer": "ipython3",
   "version": "3.10.16"
  }
 },
 "nbformat": 4,
 "nbformat_minor": 2
}
