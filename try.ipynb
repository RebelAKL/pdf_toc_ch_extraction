{
 "cells": [
  {
   "cell_type": "code",
   "execution_count": 4,
   "metadata": {},
   "outputs": [],
   "source": [
    "import os\n",
    "import fitz\n",
    "import pandas as pd\n",
    "import re"
   ]
  },
  {
   "cell_type": "code",
   "execution_count": 6,
   "metadata": {},
   "outputs": [
    {
     "name": "stdout",
     "output_type": "stream",
     "text": [
      "Processed DIM evaluation report 22 Oct 2024.pdf: Findings from page 44 to 61\n",
      "Processed Final Report_Evaluation of the Child Protection Programme_Dec 2024.pdf: Findings from page 12 to 53\n",
      "Results saved to findings_extracted.xlsx\n"
     ]
    }
   ],
   "source": [
    "import pymupdf, fitz\n",
    "import re\n",
    "import pandas as pd\n",
    "import os\n",
    "\n",
    "EXCEL_CHAR_LIMIT = 32767  \n",
    "\n",
    "# Multilingual variations of \"Findings\"\n",
    "FINDINGS_TERMS = [\n",
    "    \"FINDINGS\", \"MAIN FINDINGS\", \"FINDINGS OF THE EVALUATION\", \"FINDINGS AND ANALYSIS\",\n",
    "    \"CROSS-CUTTING ISSUES\", \"HALLAZGOS Y ANÁLISIS DE DATOS\", \"HALLAZGOS DE LA EVALUACIÓN\",\n",
    "    \"HALLAZGOS\", \"CRITÈRES DE L’ÉVALUATION\", \"RESULTADOS O HALLAZGOS DE LA EVALUACIÓN\",\n",
    "    \"UM PANORAMA DAS PERCEPÇÕES E DESCOBERTAS\", \"EM DESTAQUE\", \"RESULTADOS E CONCLUSÕES PRELIMINARES\",\n",
    "    \"CADRE DE L’ÉVALUATION ET MÉTHODES\"\n",
    "]\n",
    "\n",
    "def extract_text_from_pdf(pdf_path, start_page, end_page):\n",
    "    doc = fitz.open(pdf_path)\n",
    "    text = \"\"\n",
    "    for page_num in range(start_page - 1, end_page):\n",
    "        text += doc[page_num].get_text(\"text\") + \"\\n\\n\"\n",
    "    return text\n",
    "\n",
    "def find_chapter_pages(toc_text):\n",
    "    pattern = r'^\\s*(\\d*\\.*\\s*)?([A-Z][A-Z\\s\\-]+)\\s*[\\.…]*\\s*(\\d+)\\s*$'\n",
    "    matches = re.findall(pattern, toc_text, re.MULTILINE)\n",
    "    \n",
    "    chapters = []\n",
    "    for match in matches:\n",
    "        _, title, page = match\n",
    "        title = title.strip()\n",
    "        page = int(page)\n",
    "        chapters.append((title, page))\n",
    "    \n",
    "    start_page = end_page = None\n",
    "    for i, (title, page) in enumerate(chapters):\n",
    "        if any(title.lower() == term.lower() for term in FINDINGS_TERMS):\n",
    "            start_page = page\n",
    "            if i + 1 < len(chapters):\n",
    "                end_page = chapters[i + 1][1] - 1 \n",
    "            break\n",
    "\n",
    "    return start_page, end_page\n",
    "\n",
    "def split_text_into_cells(text, max_length=EXCEL_CHAR_LIMIT):\n",
    "    chunks = [text[i:i+max_length] for i in range(0, len(text), max_length)]\n",
    "    return chunks\n",
    "\n",
    "def process_pdfs(pdf_folder, output_excel):\n",
    "    data = []\n",
    "    pdf_files = [f for f in os.listdir(pdf_folder) if f.endswith(\".pdf\")]\n",
    "    for pdf_file in pdf_files:\n",
    "        pdf_path = os.path.join(pdf_folder, pdf_file)\n",
    "        toc_text = extract_text_from_pdf(pdf_path, 2, 10)\n",
    "        start_page, end_page = find_chapter_pages(toc_text)\n",
    "        if start_page and end_page:\n",
    "            findings_text = extract_text_from_pdf(pdf_path, start_page, end_page)\n",
    "            print(f\"Processed {pdf_file}: Findings from page {start_page} to {end_page}\")\n",
    "        else:\n",
    "            findings_text = \"Findings section not found.\"\n",
    "            print(f\"Skipping {pdf_file}: Findings section not detected\")\n",
    "        text_chunks = split_text_into_cells(findings_text)\n",
    "        row_data = [pdf_file] + text_chunks\n",
    "        data.append(row_data)\n",
    "    max_columns = max(len(row) for row in data) \n",
    "    column_names = [\"PDF Name\"] + [f\"Extracted Text (Part {i})\" for i in range(1, max_columns)]\n",
    "\n",
    "    df = pd.DataFrame(data, columns=column_names)\n",
    "    \n",
    "    df.to_excel(output_excel, index=False)\n",
    "    print(f\"Results saved to {output_excel}\")\n",
    "\n",
    "pdf_folder = \"PDF_FILES\"\n",
    "output_excel = \"findings_extracted.xlsx\"\n",
    "\n",
    "process_pdfs(pdf_folder, output_excel)\n"
   ]
  },
  {
   "cell_type": "code",
   "execution_count": null,
   "metadata": {},
   "outputs": [],
   "source": []
  }
 ],
 "metadata": {
  "kernelspec": {
   "display_name": "pdf",
   "language": "python",
   "name": "python3"
  },
  "language_info": {
   "codemirror_mode": {
    "name": "ipython",
    "version": 3
   },
   "file_extension": ".py",
   "mimetype": "text/x-python",
   "name": "python",
   "nbconvert_exporter": "python",
   "pygments_lexer": "ipython3",
   "version": "3.10.16"
  }
 },
 "nbformat": 4,
 "nbformat_minor": 2
}
