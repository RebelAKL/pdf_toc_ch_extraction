{
 "cells": [
  {
   "cell_type": "markdown",
   "id": "f3878576-9649-4e0a-8b10-f50e0b354ee6",
   "metadata": {},
   "source": [
    "#Converting PDF to TextFiles\n",
    "#Extract Evaluation Findings"
   ]
  },
  {
   "cell_type": "code",
   "execution_count": 1,
   "id": "ca7f5194-b032-4a87-aa77-dab0eb758d10",
   "metadata": {},
   "outputs": [],
   "source": [
    "#importing all the necesary packages\n",
    "import io\n",
    "from io import StringIO\n",
    "from pdfminer.pdfinterp import PDFResourceManager, PDFPageInterpreter\n",
    "from pdfminer.converter import TextConverter\n",
    "from pdfminer.layout import LAParams\n",
    "from pdfminer.pdfpage import PDFPage\n",
    "import os\n",
    "import sys, getopt\n",
    "import chardet\n",
    "import numpy as np"
   ]
  },
  {
   "cell_type": "code",
   "execution_count": 2,
   "id": "10435480-7c9d-4fc7-af97-af36ec58ee69",
   "metadata": {
    "jupyter": {
     "source_hidden": true
    }
   },
   "outputs": [],
   "source": [
    "#We will convert all the pdfs into text documents- so that we can run text mining on it\n",
    "#converts pdf, returns its text content as a string\n",
    "def convert(fname, pages=None):\n",
    "    if not pages:\n",
    "        pagenums = set()\n",
    "    else:\n",
    "        pagenums = set(pages)\n",
    "\n",
    "    output = io.StringIO()\n",
    "    manager = PDFResourceManager()\n",
    "    converter = TextConverter(manager, output, laparams=LAParams())\n",
    "    interpreter = PDFPageInterpreter(manager, converter)\n",
    "\n",
    "    infile = open(fname, 'rb')\n",
    "    for page in PDFPage.get_pages(infile, pagenums):\n",
    "        interpreter.process_page(page)\n",
    "    infile.close()\n",
    "    converter.close()\n",
    "    text = output.getvalue()\n",
    "    output.close\n",
    "    return text "
   ]
  },
  {
   "cell_type": "code",
   "execution_count": 5,
   "id": "641b8cbb-42de-42df-b687-7b2dab1e7d5a",
   "metadata": {},
   "outputs": [],
   "source": [
    "# Loop through all TEXT files in a folder, and then paste all the text in a all files, count number of textfiles converted\n",
    "import re\n",
    "import os\n",
    "all_files = os.listdir(\"C:/Users/gmashaka/Desktop/EO/Learning/TextFiles\")\n",
    "txt_files = filter(lambda x: x[-4:] == '.txt', all_files) "
   ]
  },
  {
   "cell_type": "code",
   "execution_count": 6,
   "id": "9476e7b3-ea18-4d24-a6c2-61e058f0a106",
   "metadata": {},
   "outputs": [],
   "source": [
    "n_file=len(all_files)"
   ]
  },
  {
   "cell_type": "code",
   "execution_count": 7,
   "id": "6e6fdfb9-9553-4c9e-a019-72e2dbd8613d",
   "metadata": {},
   "outputs": [
    {
     "data": {
      "text/plain": [
       "4"
      ]
     },
     "execution_count": 7,
     "metadata": {},
     "output_type": "execute_result"
    }
   ],
   "source": [
    "n_file"
   ]
  },
  {
   "cell_type": "code",
   "execution_count": 17,
   "id": "1792b8cc-5ade-433d-b9c1-94953640c66a",
   "metadata": {},
   "outputs": [],
   "source": [
    "#create a dataframe where we will store the different sections from txt files\n",
    "import pandas as pd\n",
    "# we will start with extraction of the 'Findings' section\n",
    "data1=pd.DataFrame(columns=['filename', 'Findings of the evaluation'])\n",
    "\n",
    "for i in range(n_file):\n",
    "    txt_file=all_files[i]\n",
    "    conclusions=\" \"\n",
    "\n",
    "    with open(\"C:/Users/gmashaka/Desktop/EO/Learning/TextFiles/\"+ txt_file, encoding=\"utf8\") as infile:\n",
    "        copy = False\n",
    "        for line in infile:\n",
    "            #print(line)\n",
    "           \n",
    "           \n",
    "            if \"Findings\".lower() in line.lower().strip():\n",
    "                copy = True\n",
    "                continue\n",
    "                \n",
    "            if \"Main Findings\".lower() in line.lower().strip():\n",
    "                copy = True\n",
    "                continue\n",
    "\n",
    "            elif \"Findings of the evaluation\".lower() in line.lower().strip():\n",
    "                copy = True\n",
    "                continue\n",
    "                \n",
    "            elif \"Findings and analysis\".lower() in line.lower().strip():\n",
    "                copy = True\n",
    "                continue\n",
    "\n",
    "            elif \"Cross-cutting issues\".lower() in line.lower().strip():\n",
    "                copy = True\n",
    "                continue\n",
    "\n",
    "            elif \"Hallazgos y análisis de datos\".lower() in line.lower().strip():\n",
    "                copy = True\n",
    "                continue\n",
    "                \n",
    "            elif \"Hallazgos de la evaluación\".lower() in line.lower().strip():\n",
    "                copy = True\n",
    "                continue\n",
    "\n",
    "            elif \"Hallazgos\".lower() in line.lower().strip():\n",
    "                copy = True\n",
    "                continue\n",
    "\n",
    "            elif \"Critères de l’évaluation\".lower() in line.lower().strip():\n",
    "                copy = True\n",
    "                continue\n",
    "\n",
    "            elif \"Resultados o hallazgos de la evaluación\".lower() in line.lower().strip():\n",
    "                copy = True\n",
    "                continue\n",
    "\n",
    "            elif \"um panorama das percepções e descobertas \".lower() in line.lower().strip():\n",
    "                copy = True\n",
    "                continue\n",
    "\n",
    "            elif \"Em Destaque\".lower() in line.lower().strip():\n",
    "                copy = True\n",
    "                continue\n",
    "\n",
    "            elif \"Resultados E Conclusões Preliminares\".lower() in line.lower().strip():\n",
    "                copy = True\n",
    "                continue\n",
    "\n",
    "            elif \"Cadre de l’évaluation et méthodes\".lower() in line.lower().strip():\n",
    "                copy = True\n",
    "                continue\n",
    "            \n",
    "            elif \"Conclusions and recommendations\".lower() in line.lower().strip():\n",
    "                copy = False\n",
    "                continue           \n",
    "           \n",
    "            elif \"Recommendations\".lower() in line.lower().strip():\n",
    "                copy = False\n",
    "                continue\n",
    "\n",
    "            elif \"Methodologie\".lower() in line.lower().strip():\n",
    "                copy = False\n",
    "                continue\n",
    "\n",
    "            elif \"Conclusiones\".lower() in line.lower().strip():\n",
    "                copy = False\n",
    "                continue\n",
    "\n",
    "            elif \"Recomendações\".lower() in line.lower().strip():\n",
    "                copy = False\n",
    "                continue\n",
    "                \n",
    "            elif \"Conclusions, Recommendations and Lessons Learned\".lower() in line.lower().strip():\n",
    "                copy = False\n",
    "                continue\n",
    "\n",
    "            elif \"Conclusões Finais\".lower() in line.lower().strip():\n",
    "                copy = False\n",
    "                continue\n",
    "            \n",
    "            elif copy:\n",
    "                #outfile.write(line)\n",
    "                conclusions=conclusions+line\n",
    "                #print(conclusions)\n",
    "    #data0.iloc[i]=[txt_file,conclusions]\n",
    "    \n",
    "    data1 = data1._append({'filename' : txt_file, 'Findings of the evaluation' : conclusions}, ignore_index = True)\n",
    "\n",
    " "
   ]
  },
  {
   "cell_type": "code",
   "execution_count": null,
   "id": "a34351ab-3fa4-4da2-98bf-c4f146b59d69",
   "metadata": {},
   "outputs": [],
   "source": []
  },
  {
   "cell_type": "code",
   "execution_count": 19,
   "id": "296ffbab-d4fa-42b8-b9f1-a13df74c265d",
   "metadata": {},
   "outputs": [
    {
     "data": {
      "text/html": [
       "<div>\n",
       "<style scoped>\n",
       "    .dataframe tbody tr th:only-of-type {\n",
       "        vertical-align: middle;\n",
       "    }\n",
       "\n",
       "    .dataframe tbody tr th {\n",
       "        vertical-align: top;\n",
       "    }\n",
       "\n",
       "    .dataframe thead th {\n",
       "        text-align: right;\n",
       "    }\n",
       "</style>\n",
       "<table border=\"1\" class=\"dataframe\">\n",
       "  <thead>\n",
       "    <tr style=\"text-align: right;\">\n",
       "      <th></th>\n",
       "      <th>filename</th>\n",
       "      <th>Findings of the evaluation</th>\n",
       "    </tr>\n",
       "  </thead>\n",
       "  <tbody>\n",
       "    <tr>\n",
       "      <th>0</th>\n",
       "      <td>documentID=17627&amp;fileID=42894.pdf.txt</td>\n",
       "      <td>3.1 Relevance \\n   3.2 Coherence  \\n   3.3...</td>\n",
       "    </tr>\n",
       "    <tr>\n",
       "      <th>1</th>\n",
       "      <td>documentID=18404&amp;fileID=48567.pdf.txt</td>\n",
       "      <td>\\n5.1. Relevance ...............................</td>\n",
       "    </tr>\n",
       "    <tr>\n",
       "      <th>2</th>\n",
       "      <td>documentID=18922&amp;fileID=49928.pdf.txt</td>\n",
       "      <td>\\n4.1 \\n\\nProgramme Design .....................</td>\n",
       "    </tr>\n",
       "    <tr>\n",
       "      <th>3</th>\n",
       "      <td>documentID=19922&amp;fileID=50982.pdf.txt</td>\n",
       "      <td>\\n3.1 \\n3.2 \\n3.3 \\n3.4 \\n3.5 \\n3.6 \\n3.7 \\n\\...</td>\n",
       "    </tr>\n",
       "  </tbody>\n",
       "</table>\n",
       "</div>"
      ],
      "text/plain": [
       "                                filename  \\\n",
       "0  documentID=17627&fileID=42894.pdf.txt   \n",
       "1  documentID=18404&fileID=48567.pdf.txt   \n",
       "2  documentID=18922&fileID=49928.pdf.txt   \n",
       "3  documentID=19922&fileID=50982.pdf.txt   \n",
       "\n",
       "                          Findings of the evaluation  \n",
       "0      3.1 Relevance \\n   3.2 Coherence  \\n   3.3...  \n",
       "1   \\n5.1. Relevance ...............................  \n",
       "2   \\n4.1 \\n\\nProgramme Design .....................  \n",
       "3   \\n3.1 \\n3.2 \\n3.3 \\n3.4 \\n3.5 \\n3.6 \\n3.7 \\n\\...  "
      ]
     },
     "execution_count": 19,
     "metadata": {},
     "output_type": "execute_result"
    }
   ],
   "source": [
    "data1"
   ]
  },
  {
   "cell_type": "code",
   "execution_count": 20,
   "id": "f5df09b7-c4eb-4672-8936-ff3bdfbe96b1",
   "metadata": {},
   "outputs": [],
   "source": [
    "data1['Findings of the evaluation'] = data1['Findings of the evaluation'].astype(str)"
   ]
  },
  {
   "cell_type": "code",
   "execution_count": 21,
   "id": "d64d19c3-1913-42e6-8cfc-f090f642bca3",
   "metadata": {},
   "outputs": [
    {
     "name": "stdout",
     "output_type": "stream",
     "text": [
      "0        3.1 Relevance \\n   3.2 Coherence  \\n   3.3...\n",
      "1     \\n5.1. Relevance ...............................\n",
      "2     \\n4.1 \\n\\nProgramme Design .....................\n",
      "3     \\n3.1 \\n3.2 \\n3.3 \\n3.4 \\n3.5 \\n3.6 \\n3.7 \\n\\...\n"
     ]
    }
   ],
   "source": [
    "print(data1['Findings of the evaluation'].to_string())"
   ]
  },
  {
   "cell_type": "code",
   "execution_count": 22,
   "id": "f3684a20-7832-40bd-8b11-57aac40deb05",
   "metadata": {},
   "outputs": [
    {
     "data": {
      "text/html": [
       "<div>\n",
       "<style scoped>\n",
       "    .dataframe tbody tr th:only-of-type {\n",
       "        vertical-align: middle;\n",
       "    }\n",
       "\n",
       "    .dataframe tbody tr th {\n",
       "        vertical-align: top;\n",
       "    }\n",
       "\n",
       "    .dataframe thead th {\n",
       "        text-align: right;\n",
       "    }\n",
       "</style>\n",
       "<table border=\"1\" class=\"dataframe\">\n",
       "  <thead>\n",
       "    <tr style=\"text-align: right;\">\n",
       "      <th></th>\n",
       "      <th>filename</th>\n",
       "      <th>Findings of the evaluation</th>\n",
       "    </tr>\n",
       "  </thead>\n",
       "  <tbody>\n",
       "    <tr>\n",
       "      <th>0</th>\n",
       "      <td>documentID=17627&amp;fileID=42894.pdf.txt</td>\n",
       "      <td>3.1 Relevance \\n   3.2 Coherence  \\n   3.3...</td>\n",
       "    </tr>\n",
       "    <tr>\n",
       "      <th>1</th>\n",
       "      <td>documentID=18404&amp;fileID=48567.pdf.txt</td>\n",
       "      <td>\\n5.1. Relevance ...............................</td>\n",
       "    </tr>\n",
       "    <tr>\n",
       "      <th>2</th>\n",
       "      <td>documentID=18922&amp;fileID=49928.pdf.txt</td>\n",
       "      <td>\\n4.1 \\n\\nProgramme Design .....................</td>\n",
       "    </tr>\n",
       "    <tr>\n",
       "      <th>3</th>\n",
       "      <td>documentID=19922&amp;fileID=50982.pdf.txt</td>\n",
       "      <td>\\n3.1 \\n3.2 \\n3.3 \\n3.4 \\n3.5 \\n3.6 \\n3.7 \\n\\...</td>\n",
       "    </tr>\n",
       "  </tbody>\n",
       "</table>\n",
       "</div>"
      ],
      "text/plain": [
       "                                filename  \\\n",
       "0  documentID=17627&fileID=42894.pdf.txt   \n",
       "1  documentID=18404&fileID=48567.pdf.txt   \n",
       "2  documentID=18922&fileID=49928.pdf.txt   \n",
       "3  documentID=19922&fileID=50982.pdf.txt   \n",
       "\n",
       "                          Findings of the evaluation  \n",
       "0      3.1 Relevance \\n   3.2 Coherence  \\n   3.3...  \n",
       "1   \\n5.1. Relevance ...............................  \n",
       "2   \\n4.1 \\n\\nProgramme Design .....................  \n",
       "3   \\n3.1 \\n3.2 \\n3.3 \\n3.4 \\n3.5 \\n3.6 \\n3.7 \\n\\...  "
      ]
     },
     "execution_count": 22,
     "metadata": {},
     "output_type": "execute_result"
    }
   ],
   "source": [
    "data1"
   ]
  },
  {
   "cell_type": "code",
   "execution_count": 23,
   "id": "8c73eecd-edef-402a-af1e-c146ad4f91bf",
   "metadata": {},
   "outputs": [],
   "source": [
    "#save all evaluation findings in one excel called all_findings\n",
    "data1.to_excel('C:/Users/gmashaka/Desktop/EO/Learning/FileExtract/four_findings1.xlsx', engine='xlsxwriter')"
   ]
  },
  {
   "cell_type": "code",
   "execution_count": null,
   "id": "ec9886f1-d99b-48a9-bf2b-0aec0f751223",
   "metadata": {},
   "outputs": [],
   "source": []
  },
  {
   "cell_type": "code",
   "execution_count": null,
   "id": "c53924a5-768f-409f-9a36-bce8f3cc6098",
   "metadata": {},
   "outputs": [],
   "source": []
  }
 ],
 "metadata": {
  "kernelspec": {
   "display_name": "Python 3 (ipykernel)",
   "language": "python",
   "name": "python3"
  },
  "language_info": {
   "codemirror_mode": {
    "name": "ipython",
    "version": 3
   },
   "file_extension": ".py",
   "mimetype": "text/x-python",
   "name": "python",
   "nbconvert_exporter": "python",
   "pygments_lexer": "ipython3",
   "version": "3.12.3"
  }
 },
 "nbformat": 4,
 "nbformat_minor": 5
}
